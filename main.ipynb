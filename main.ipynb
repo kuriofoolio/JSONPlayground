{
 "cells": [
  {
   "cell_type": "code",
   "execution_count": 22,
   "id": "6813c30d",
   "metadata": {
    "scrolled": true
   },
   "outputs": [],
   "source": [
    "%run tasks.ipynb"
   ]
  },
  {
   "cell_type": "markdown",
   "id": "87fcb2e5",
   "metadata": {},
   "source": [
    "# handling .json"
   ]
  },
  {
   "cell_type": "code",
   "execution_count": 25,
   "id": "cd8813c3",
   "metadata": {},
   "outputs": [],
   "source": [
    "# data_source='json_data'\n",
    "# json_files_list=['json1','json2']\n",
    "# output_dir='outputs/'\n",
    "\n",
    "# json1=read_json('json1')\n",
    "# json2=read_json('json2')\n",
    "\n",
    "# [print(read_json(i),end='\\n\\n') for i in json_files_list]"
   ]
  },
  {
   "cell_type": "code",
   "execution_count": 26,
   "id": "8283aab4",
   "metadata": {},
   "outputs": [],
   "source": [
    "# if __name__ == '__main__':\n",
    "#     merged_data_frame = (pd.concat(\n",
    "#         (merge_lists(data_source, json_files_list)), axis=0, ignore_index=True\n",
    "#     )).to_json(output_dir + \"merged_json_file.json\")"
   ]
  },
  {
   "cell_type": "code",
   "execution_count": 27,
   "id": "7484e7a9",
   "metadata": {},
   "outputs": [],
   "source": [
    "# df1=json_to_df(json1)\n",
    "# df2=json_to_df(json2)\n",
    "# df1"
   ]
  },
  {
   "cell_type": "code",
   "execution_count": 3,
   "id": "ab46cefe",
   "metadata": {
    "scrolled": true
   },
   "outputs": [],
   "source": [
    "# merged_df = pd.merge(df1, df2, on='Student Name' , how='inner')\n",
    "# merged_df"
   ]
  },
  {
   "cell_type": "markdown",
   "id": "191b41f8",
   "metadata": {},
   "source": [
    "# handling .jsonl"
   ]
  },
  {
   "cell_type": "code",
   "execution_count": 4,
   "id": "7e4ce39c",
   "metadata": {
    "scrolled": false
   },
   "outputs": [],
   "source": [
    "# student_details=read_jsonline('json_data')\n",
    "# student_details"
   ]
  },
  {
   "cell_type": "markdown",
   "id": "89f9032b",
   "metadata": {},
   "source": [
    "## read file"
   ]
  },
  {
   "cell_type": "code",
   "execution_count": 10,
   "id": "3d738338",
   "metadata": {
    "scrolled": true
   },
   "outputs": [],
   "source": [
    "# PATH='json_data'\n",
    "# file_name='json1'\n",
    "# read_jsonl(PATH,file_name)"
   ]
  },
  {
   "cell_type": "markdown",
   "id": "250dd6a0",
   "metadata": {},
   "source": [
    "## write to file"
   ]
  },
  {
   "cell_type": "code",
   "execution_count": 24,
   "id": "643fcd29",
   "metadata": {},
   "outputs": [],
   "source": [
    "# data={'Student Adm No. ': '24 ', 'Student Name ': 'wamwea onyullo', 'Date of Birth ': '1991 '}\n",
    "# # type(data)\n",
    "\n",
    "# file_name='json1'\n",
    "# write_to_jsonl(PATH,file_name,data)"
   ]
  },
  {
   "cell_type": "code",
   "execution_count": 6,
   "id": "0f174481",
   "metadata": {},
   "outputs": [],
   "source": [
    "# pdf to json\n",
    "\n",
    "INPUT_PATH='..\\..\\scrabble_praco'\n",
    "file_name='Monetary Units-Good words.pdf'\n",
    "curr_tables=read_pdf(INPUT_PATH,file_name)\n",
    "\n",
    "json_file_path = 'monetary_units.json'\n",
    "OUTPUT_DIR='outputs'\n",
    "convert_pdf_to_json(curr_tables,f\"{OUTPUT_DIR}/{json_file_path}\")\n",
    "\n",
    "\n",
    "# # convert PDF into CSV file\n",
    "# tabula.convert_into(f\"{PATH}\\Monetary Units-Good words.pdf\", \"curr_output.csv\", output_format=\"csv\", pages='all')\n",
    "\n",
    "# dfs=pd.read_csv('curr_output.csv')\n",
    "# dfs\n",
    "\n",
    "# # dfs.to_json()\n",
    "\n",
    "\n",
    "# # dfs['monetary unit']\n",
    "\n",
    "# # import json\n",
    "# # with open('monetary_units.json', 'w') as f:\n",
    "# #     json.dump(dfs, f)\n",
    "\n"
   ]
  },
  {
   "cell_type": "code",
   "execution_count": null,
   "id": "2f66704b",
   "metadata": {},
   "outputs": [],
   "source": []
  }
 ],
 "metadata": {
  "kernelspec": {
   "display_name": "Python 3",
   "language": "python",
   "name": "python3"
  },
  "language_info": {
   "codemirror_mode": {
    "name": "ipython",
    "version": 3
   },
   "file_extension": ".py",
   "mimetype": "text/x-python",
   "name": "python",
   "nbconvert_exporter": "python",
   "pygments_lexer": "ipython3",
   "version": "3.8.8"
  }
 },
 "nbformat": 4,
 "nbformat_minor": 5
}
